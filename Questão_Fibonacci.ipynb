{
  "nbformat": 4,
  "nbformat_minor": 0,
  "metadata": {
    "colab": {
      "provenance": [],
      "authorship_tag": "ABX9TyO7Lz5RX1kszshXoOd7bjaE",
      "include_colab_link": true
    },
    "kernelspec": {
      "name": "python3",
      "display_name": "Python 3"
    },
    "language_info": {
      "name": "python"
    }
  },
  "cells": [
    {
      "cell_type": "markdown",
      "metadata": {
        "id": "view-in-github",
        "colab_type": "text"
      },
      "source": [
        "<a href=\"https://colab.research.google.com/github/leoboasorte21/Target/blob/main/Quest%C3%A3o_Fibonacci.ipynb\" target=\"_parent\"><img src=\"https://colab.research.google.com/assets/colab-badge.svg\" alt=\"Open In Colab\"/></a>"
      ]
    },
    {
      "cell_type": "code",
      "execution_count": null,
      "metadata": {
        "id": "_z0OrECzGz7W"
      },
      "outputs": [],
      "source": [
        "print('Questão 2: Sequência Fibonacci')\n",
        "\n",
        "x = int(input('Informe o número: '))\n",
        "\n",
        "n1, n2 = 0, 1\n",
        "\n",
        "while n1 < x:\n",
        "    n1, n2 = n2, n1 + n2\n",
        "\n",
        "if (n1 == x):\n",
        "  print('O número', x , 'pertence à Sequência Fibonacci!!')\n",
        "else:\n",
        "  print('O número', x , 'não pertence à Sequência Fibonacci!!')"
      ]
    }
  ]
}