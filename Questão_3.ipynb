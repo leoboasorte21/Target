{
  "nbformat": 4,
  "nbformat_minor": 0,
  "metadata": {
    "colab": {
      "provenance": [],
      "authorship_tag": "ABX9TyMpY2lQxq0y4GZJ96phg6gj",
      "include_colab_link": true
    },
    "kernelspec": {
      "name": "python3",
      "display_name": "Python 3"
    },
    "language_info": {
      "name": "python"
    }
  },
  "cells": [
    {
      "cell_type": "markdown",
      "metadata": {
        "id": "view-in-github",
        "colab_type": "text"
      },
      "source": [
        "<a href=\"https://colab.research.google.com/github/leoboasorte21/Target/blob/main/Quest%C3%A3o_3.ipynb\" target=\"_parent\"><img src=\"https://colab.research.google.com/assets/colab-badge.svg\" alt=\"Open In Colab\"/></a>"
      ]
    },
    {
      "cell_type": "code",
      "execution_count": 7,
      "metadata": {
        "colab": {
          "base_uri": "https://localhost:8080/"
        },
        "id": "8q2EdDijHL-5",
        "outputId": "724daa39-bbae-4707-a185-9833e2dc439b"
      },
      "outputs": [
        {
          "output_type": "stream",
          "name": "stdout",
          "text": [
            "• O menor valor de faturamento foi: 0.0\n",
            "• O maior valor de faturamento foi: 48924.2448\n",
            "• Número de dias no mês em que o valor de faturamento diário foi superior à média mensal: 12\n"
          ]
        }
      ],
      "source": [
        "import json\n",
        "\n",
        "def main():\n",
        "    file = open('dados.json')\n",
        "    vetor = json.load(file)\n",
        "    file.close()\n",
        "\n",
        "    menor = min(map(lambda x: float(x['valor']), vetor))\n",
        "    print(f'• O menor valor de faturamento foi: {menor}')\n",
        "\n",
        "    maior = max(map(lambda x: float(x['valor']), vetor))\n",
        "    print(f'• O maior valor de faturamento foi: {maior}')\n",
        "\n",
        "    soma = sum(map(lambda x: float(x['valor']), vetor))\n",
        "    count = len(vetor)\n",
        "    media = soma / count\n",
        "    quantidade = sum(map(lambda x: 1 if int(x['valor']) > media else 0, vetor))\n",
        "    print(f'• Número de dias no mês em que o valor de faturamento diário foi superior à média mensal: {quantidade}')\n",
        "\n",
        "\n",
        "if __name__ == \"__main__\":\n",
        "    main()"
      ]
    }
  ]
}