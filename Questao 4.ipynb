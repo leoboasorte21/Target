{
  "nbformat": 4,
  "nbformat_minor": 0,
  "metadata": {
    "colab": {
      "provenance": [],
      "authorship_tag": "ABX9TyMVPweOTXBF7p8kXlKgsqoD",
      "include_colab_link": true
    },
    "kernelspec": {
      "name": "python3",
      "display_name": "Python 3"
    },
    "language_info": {
      "name": "python"
    }
  },
  "cells": [
    {
      "cell_type": "markdown",
      "metadata": {
        "id": "view-in-github",
        "colab_type": "text"
      },
      "source": [
        "<a href=\"https://colab.research.google.com/github/leoboasorte21/Target/blob/main/Questao%204.ipynb\" target=\"_parent\"><img src=\"https://colab.research.google.com/assets/colab-badge.svg\" alt=\"Open In Colab\"/></a>"
      ]
    },
    {
      "cell_type": "code",
      "execution_count": 9,
      "metadata": {
        "colab": {
          "base_uri": "https://localhost:8080/"
        },
        "id": "uzOabcEULz2t",
        "outputId": "350f64da-ad82-44e5-f9b6-050c36dd1e8a"
      },
      "outputs": [
        {
          "output_type": "stream",
          "name": "stdout",
          "text": [
            "Os valores percentuais dos faturamentos nos estados são:\n",
            "SP – 37.53%\n",
            "RJ – 20.29%\n",
            "MG – 16.17%\n",
            "ES – 15.03%\n",
            "OUTROS – 10.98%\n"
          ]
        }
      ],
      "source": [
        "def main():\n",
        "    faturamento = {\n",
        "        \"SP\": 67836.43,\n",
        "        \"RJ\": 36678.66,\n",
        "        \"MG\": 29229.88,\n",
        "        \"ES\": 27165.48,\n",
        "        \"OUTROS\": 19849.53\n",
        "    }\n",
        "\n",
        "    soma = sum(map(lambda x: float(x), faturamento.values()))\n",
        "    print('Os valores percentuais dos faturamentos nos estados são:')\n",
        "    for uf, valor in faturamento.items():\n",
        "        porcentual = (valor / soma) * 100\n",
        "        print(f\"{uf} – {porcentual:3.2f}%\")\n",
        "\n",
        "\n",
        "if __name__ == \"__main__\":\n",
        "    main()"
      ]
    }
  ]
}