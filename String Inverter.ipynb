{
  "nbformat": 4,
  "nbformat_minor": 0,
  "metadata": {
    "colab": {
      "provenance": [],
      "authorship_tag": "ABX9TyP3TOJS31LMTI43AT1KAnyI",
      "include_colab_link": true
    },
    "kernelspec": {
      "name": "python3",
      "display_name": "Python 3"
    },
    "language_info": {
      "name": "python"
    }
  },
  "cells": [
    {
      "cell_type": "markdown",
      "metadata": {
        "id": "view-in-github",
        "colab_type": "text"
      },
      "source": [
        "<a href=\"https://colab.research.google.com/github/leoboasorte21/Target/blob/main/String%20Inverter.ipynb\" target=\"_parent\"><img src=\"https://colab.research.google.com/assets/colab-badge.svg\" alt=\"Open In Colab\"/></a>"
      ]
    },
    {
      "cell_type": "code",
      "execution_count": 3,
      "metadata": {
        "colab": {
          "base_uri": "https://localhost:8080/"
        },
        "id": "ewycdtyaOOPA",
        "outputId": "aa73bc2b-49ae-4154-931e-8ad7af0a7afe"
      },
      "outputs": [
        {
          "output_type": "stream",
          "name": "stdout",
          "text": [
            "Inversor de palavras\n",
            "Insira as palavras a serem invertidas: Quero um estágio :'(\n",
            "A palavra invertida fica: (': oigátse mu oreuQ\n"
          ]
        }
      ],
      "source": [
        "print('Inversor de palavras')\n",
        "\n",
        "txt = input('Insira as palavras a serem invertidas: ')\n",
        "\n",
        "print('A palavra invertida fica:', txt[::-1])"
      ]
    }
  ]
}